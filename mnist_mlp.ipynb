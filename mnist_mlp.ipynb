{
 "cells": [
  {
   "cell_type": "code",
   "execution_count": 132,
   "id": "5189d05c",
   "metadata": {},
   "outputs": [],
   "source": [
    "# MNIST MLP to Match Equilibrium Propagation\n",
    "\n",
    "import numpy as np\n",
    "from abc import ABC, abstractmethod\n",
    "\n",
    "class Layer(ABC):\n",
    "    \n",
    "    def __init__(self):\n",
    "        self.__prevIn__ = []\n",
    "        self.__prevOut__ = []\n",
    "        \n",
    "    def setPrevIn(self, dataIn):\n",
    "        self.__prevIn = dataIn\n",
    "        \n",
    "    def setPrevOut(self, out):\n",
    "        self.__prevOut = out\n",
    "        \n",
    "    def getPrevIn(self):\n",
    "        return self.__prevIn\n",
    "    \n",
    "    def getPrevOut(self):\n",
    "        return self.__prevOut\n",
    "    \n",
    "    def backward(self, gradIn):\n",
    "        return (gradIn @ self.gradient())\n",
    "    \n",
    "    @abstractmethod\n",
    "    def forward(self, dataIn):\n",
    "        pass\n",
    "    \n",
    "    @abstractmethod\n",
    "    def gradient(self):\n",
    "        pass\n",
    "\n",
    "class HardSigLayer(Layer):\n",
    "    def __init__(self):\n",
    "        super().__init__()\n",
    "    \n",
    "    def forward(self, dataIn):\n",
    "        self.setPrevIn(dataIn)      \n",
    "        z = torch.clip(self.getPrevIn(), -1, 1)\n",
    "        self.setPrevOut(z)\n",
    "        return self.getPrevOut()\n",
    "        \n",
    "    def gradient(self): \n",
    "        z = (self.getPrevOut() > -1) & (self.getPrevOut() < 1)\n",
    "        return z"
   ]
  },
  {
   "cell_type": "code",
   "execution_count": 133,
   "id": "b57a97d5",
   "metadata": {},
   "outputs": [],
   "source": [
    "from keras.datasets import mnist\n",
    "\n",
    "(train_x, train_y), (test_x, test_y) = mnist.load_data()"
   ]
  },
  {
   "cell_type": "code",
   "execution_count": 134,
   "id": "e792ec4c",
   "metadata": {},
   "outputs": [
    {
     "name": "stdout",
     "output_type": "stream",
     "text": [
      "(60000, 28, 28)\n",
      "[0 0 0 ... 0 0 0]\n",
      "(10000, 28, 28)\n"
     ]
    }
   ],
   "source": [
    "print(train_x.shape)\n",
    "print(train_x.flatten())\n",
    "print(test_x.shape)\n",
    "\n",
    "data = []\n",
    "train_data = train_x.tolist()\n",
    "test_data = test_x.tolist()\n",
    "for value in train_data:\n",
    "    data.append(value)\n",
    "for item in test_data:\n",
    "    data.append(item)\n",
    "data = np.array(data)\n",
    "\n",
    "#Standardize data\n",
    "inputs = train_x - np.mean(data)\n",
    "inputs = inputs/(np.std(data))\n",
    "\n",
    "#standardize test data\n",
    "test_inputs = test_x - np.mean(data)\n",
    "test_inputs = test_inputs/(np.std(data))\n",
    "\n",
    "targets = train_y\n",
    "test_targets = test_y\n",
    "\n",
    "train_x = inputs\n",
    "valid_x = test_inputs\n",
    "train_y = targets\n",
    "valid_y = test_targets"
   ]
  },
  {
   "cell_type": "code",
   "execution_count": 135,
   "id": "776175f9",
   "metadata": {},
   "outputs": [],
   "source": [
    "import numpy as np\n",
    "%matplotlib inline\n",
    "import matplotlib.pyplot as plt\n",
    "from PIL import Image\n",
    "import torch\n",
    "#from torchvision import datasets, models, transforms\n",
    "from torchvision import models, transforms\n",
    "import torch.nn as nn\n",
    "from torch.nn import functional as F\n",
    "import torch.optim as optim\n",
    "import time\n",
    "import copy"
   ]
  },
  {
   "cell_type": "code",
   "execution_count": 136,
   "id": "316318f9",
   "metadata": {},
   "outputs": [],
   "source": [
    "from torch.utils.data import Dataset\n",
    "\n",
    "class MyDataset(Dataset):\n",
    "    def __init__(self, x, y):\n",
    "        super(MyDataset, self).__init__()\n",
    "        assert x.shape[0] == y.shape[0]\n",
    "        self.x = x\n",
    "        self.y = y\n",
    "    \n",
    "    def __len__(self):\n",
    "        return self.y.shape[0]\n",
    "    \n",
    "    def __getitem__(self, index):\n",
    "        return self.x[index], self.y[index]"
   ]
  },
  {
   "cell_type": "code",
   "execution_count": 137,
   "id": "39c080ff",
   "metadata": {},
   "outputs": [],
   "source": [
    "traindata = MyDataset(train_x, train_y)\n",
    "validation = MyDataset(valid_x, valid_y)"
   ]
  },
  {
   "cell_type": "code",
   "execution_count": 138,
   "id": "b6bb1388",
   "metadata": {},
   "outputs": [],
   "source": [
    "image_datasets = {\n",
    "    'train': \n",
    "    traindata,\n",
    "    'validation': \n",
    "    validation\n",
    "}\n",
    "\n",
    "dataloaders = {\n",
    "    'train':\n",
    "    torch.utils.data.DataLoader(traindata,\n",
    "                                batch_size=1,\n",
    "                                shuffle=True, num_workers=0),\n",
    "    'validation':\n",
    "    torch.utils.data.DataLoader(validation,\n",
    "                                batch_size=1,\n",
    "                                shuffle=False, num_workers=0)\n",
    "}"
   ]
  },
  {
   "cell_type": "code",
   "execution_count": 139,
   "id": "5baa8db8",
   "metadata": {},
   "outputs": [
    {
     "name": "stdout",
     "output_type": "stream",
     "text": [
      "cuda:0\n"
     ]
    }
   ],
   "source": [
    "device = torch.device(\"cuda:0\" if torch.cuda.is_available() else \"cpu\")\n",
    "#device = torch.device(\"cpu\")\n",
    "print(device)"
   ]
  },
  {
   "cell_type": "code",
   "execution_count": 140,
   "id": "41b5f4d4",
   "metadata": {},
   "outputs": [],
   "source": [
    "class LinReg(nn.Module):\n",
    "    def __init__(self):\n",
    "        super().__init__()\n",
    "        self.d = 28\n",
    "        self.flatten = nn.Flatten()\n",
    "        self.fc0 = nn.Linear(self.d**2,500)\n",
    "        self.hs0 = HardSigLayer()\n",
    "        #self.relu0 = nn.ReLU()\n",
    "        self.do0 = nn.Dropout(0.25)\n",
    "        self.fc1 = nn.Linear(500,10)\n",
    "        self.hs1 = HardSigLayer()\n",
    "        #self.relu1 = nn.ReLU()\n",
    "        #self.do1 = nn.Dropout(0.1)\n",
    "        #self.fc2 = nn.Linear(64,2)\n",
    "        #self.do2 = nn.Dropout(0.2)\n",
    "        \n",
    "    def forward(self, x):\n",
    "        x = x.float()\n",
    "        x = self.flatten(x)\n",
    "        x = self.fc0(x)\n",
    "        x = self.hs0.forward(x)\n",
    "        #x = self.relu0(x)\n",
    "        x = self.do0(x)\n",
    "        x = self.fc1(x)\n",
    "        x = self.hs1.forward(x)\n",
    "        #x = self.relu1(x)\n",
    "        #x = self.do1(x)\n",
    "        #x = self.fc2(x)\n",
    "        #x = self.do2(x)\n",
    "        return x\n",
    "    \n",
    "model = LinReg().to(device)"
   ]
  },
  {
   "cell_type": "code",
   "execution_count": 141,
   "id": "b7c630ec",
   "metadata": {},
   "outputs": [],
   "source": [
    "criterion = nn.CrossEntropyLoss()\n",
    "#criterion = nn.MSELoss()\n",
    "optimizer = optim.Adam(model.parameters())\n",
    "#optimizer = optim.SGD(model.fc.parameters(),lr=0.1,momentum=0.9)"
   ]
  },
  {
   "cell_type": "code",
   "execution_count": 142,
   "id": "facd0430",
   "metadata": {},
   "outputs": [],
   "source": [
    "def train_model(model, criterion, optimizer, num_epochs=50):\n",
    "    best_acc = 0\n",
    "    for epoch in range(num_epochs):\n",
    "        print('Epoch {}/{}'.format(epoch+1, num_epochs))\n",
    "        print('-' * 10)\n",
    "\n",
    "        for phase in ['train', 'validation']:\n",
    "            if phase == 'train':\n",
    "                model.train()\n",
    "            else:\n",
    "                model.eval()\n",
    "\n",
    "            running_loss = 0.0\n",
    "            running_corrects = 0\n",
    "\n",
    "            for inputs, labels in dataloaders[phase]:\n",
    "                inputs = inputs.to(device)\n",
    "                labels = labels.type(torch.LongTensor)\n",
    "                labels = labels.to(device)\n",
    "\n",
    "                if phase == 'validation':\n",
    "                    with torch.no_grad():\n",
    "                        outputs = model(inputs)\n",
    "                        loss = criterion(outputs, labels)\n",
    "                else:\n",
    "                    outputs = model(inputs)\n",
    "                    loss = criterion(outputs, labels)\n",
    "\n",
    "                if phase == 'train':\n",
    "                    optimizer.zero_grad()\n",
    "                    loss.backward()\n",
    "                    optimizer.step()\n",
    "\n",
    "                _, preds = torch.max(outputs, 1)\n",
    "                running_loss += loss.detach() * inputs.size(0)\n",
    "                running_corrects += torch.sum(preds == labels.data)\n",
    "\n",
    "            epoch_loss = running_loss / len(image_datasets[phase])\n",
    "            epoch_acc = running_corrects.float() / len(image_datasets[phase])\n",
    "            #if phase == 'validation' and epoch_acc > best_acc:\n",
    "            if phase == 'validation':\n",
    "                print('saving best model...')\n",
    "                torch.save(model.state_dict(), 'models/pytorch/weights.h5')\n",
    "                best_acc = epoch_acc\n",
    "\n",
    "            print('{} loss: {:.4f}, acc: {:.4f}'.format(phase,\n",
    "                                                        epoch_loss.item(),\n",
    "                                                        epoch_acc.item()))\n",
    "    return model, best_acc"
   ]
  },
  {
   "cell_type": "code",
   "execution_count": 143,
   "id": "fd07e188",
   "metadata": {
    "scrolled": true
   },
   "outputs": [
    {
     "name": "stdout",
     "output_type": "stream",
     "text": [
      "Epoch 1/5\n",
      "----------\n",
      "train loss: 2.1066, acc: 0.2441\n",
      "saving best model...\n",
      "validation loss: 2.0967, acc: 0.2413\n",
      "Epoch 2/5\n",
      "----------\n",
      "train loss: 2.0881, acc: 0.2503\n",
      "saving best model...\n",
      "validation loss: 2.0866, acc: 0.2462\n",
      "Epoch 3/5\n",
      "----------\n",
      "train loss: 2.0816, acc: 0.2553\n",
      "saving best model...\n",
      "validation loss: 2.0632, acc: 0.2608\n",
      "Epoch 4/5\n",
      "----------\n",
      "train loss: 2.0783, acc: 0.2555\n",
      "saving best model...\n",
      "validation loss: 2.0828, acc: 0.2497\n",
      "Epoch 5/5\n",
      "----------\n",
      "train loss: 2.0771, acc: 0.2552\n",
      "saving best model...\n",
      "validation loss: 2.0655, acc: 0.2581\n",
      "\n",
      "Best test accuracy: 0.258100\n"
     ]
    }
   ],
   "source": [
    "model_trained, accuracy = train_model(model, criterion, optimizer, num_epochs=5)\n",
    "print('\\nBest test accuracy: %f'%accuracy)"
   ]
  },
  {
   "cell_type": "code",
   "execution_count": 28,
   "id": "76cdb4cd",
   "metadata": {},
   "outputs": [
    {
     "data": {
      "text/plain": [
       "<All keys matched successfully>"
      ]
     },
     "execution_count": 28,
     "metadata": {},
     "output_type": "execute_result"
    }
   ],
   "source": [
    "model.load_state_dict(torch.load('models/pytorch/reg_9613_acc.h5'))"
   ]
  },
  {
   "cell_type": "code",
   "execution_count": 29,
   "id": "7a749953",
   "metadata": {},
   "outputs": [
    {
     "name": "stdout",
     "output_type": "stream",
     "text": [
      "name:  fc0.weight\n",
      "<class 'torch.nn.parameter.Parameter'>\n",
      "param.shape:  torch.Size([500, 784])\n",
      "param.requires_grad:  True\n",
      "=====\n",
      "name:  fc0.bias\n",
      "<class 'torch.nn.parameter.Parameter'>\n",
      "param.shape:  torch.Size([500])\n",
      "param.requires_grad:  True\n",
      "=====\n",
      "name:  fc1.weight\n",
      "<class 'torch.nn.parameter.Parameter'>\n",
      "param.shape:  torch.Size([10, 500])\n",
      "param.requires_grad:  True\n",
      "=====\n",
      "name:  fc1.bias\n",
      "<class 'torch.nn.parameter.Parameter'>\n",
      "param.shape:  torch.Size([10])\n",
      "param.requires_grad:  True\n",
      "=====\n"
     ]
    }
   ],
   "source": [
    "for name, param in model.named_parameters():\n",
    "    print('name: ', name)\n",
    "    print(type(param))\n",
    "    print('param.shape: ', param.shape)\n",
    "    print('param.requires_grad: ', param.requires_grad)\n",
    "    print('=====')"
   ]
  },
  {
   "cell_type": "code",
   "execution_count": 30,
   "id": "95c98e0b",
   "metadata": {},
   "outputs": [
    {
     "name": "stdout",
     "output_type": "stream",
     "text": [
      "(784, 500)\n"
     ]
    }
   ],
   "source": [
    "W1 = model.fc0.weight.cpu().detach().numpy().T\n",
    "print(W1.shape)\n",
    "np.save('reg_w1.npy',W1)"
   ]
  },
  {
   "cell_type": "code",
   "execution_count": 31,
   "id": "75097486",
   "metadata": {},
   "outputs": [
    {
     "name": "stdout",
     "output_type": "stream",
     "text": [
      "(500, 10)\n"
     ]
    }
   ],
   "source": [
    "W2 = model.fc1.weight.cpu().detach().numpy().T\n",
    "print(W2.shape)\n",
    "np.save('reg_w2.npy',W2)"
   ]
  },
  {
   "cell_type": "code",
   "execution_count": 32,
   "id": "645ad473",
   "metadata": {},
   "outputs": [
    {
     "name": "stdout",
     "output_type": "stream",
     "text": [
      "(500,)\n"
     ]
    }
   ],
   "source": [
    "bh = model.fc0.bias.cpu().detach().numpy()\n",
    "print(bh.shape)\n",
    "np.save('reg_bh.npy',bh)"
   ]
  },
  {
   "cell_type": "code",
   "execution_count": 33,
   "id": "ea64fee3",
   "metadata": {},
   "outputs": [
    {
     "name": "stdout",
     "output_type": "stream",
     "text": [
      "(10,)\n"
     ]
    }
   ],
   "source": [
    "by = model.fc1.bias.cpu().detach().numpy()\n",
    "print(by.shape)\n",
    "np.save('reg_by.npy',by)"
   ]
  },
  {
   "cell_type": "code",
   "execution_count": null,
   "id": "488c008d",
   "metadata": {},
   "outputs": [],
   "source": []
  }
 ],
 "metadata": {
  "kernelspec": {
   "display_name": "Python 3 (ipykernel)",
   "language": "python",
   "name": "python3"
  },
  "language_info": {
   "codemirror_mode": {
    "name": "ipython",
    "version": 3
   },
   "file_extension": ".py",
   "mimetype": "text/x-python",
   "name": "python",
   "nbconvert_exporter": "python",
   "pygments_lexer": "ipython3",
   "version": "3.9.5"
  }
 },
 "nbformat": 4,
 "nbformat_minor": 5
}
