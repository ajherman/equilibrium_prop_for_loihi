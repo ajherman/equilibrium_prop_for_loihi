{
 "cells": [
  {
   "cell_type": "code",
   "execution_count": 3,
   "metadata": {},
   "outputs": [],
   "source": [
    "import numpy as np\n",
    "import matplotlib.pyplot as plt\n",
    "from sklearn import datasets\n",
    "import torch\n",
    "from keras.datasets import mnist"
   ]
  },
  {
   "cell_type": "code",
   "execution_count": 4,
   "metadata": {},
   "outputs": [],
   "source": [
    "###\n",
    "### Regular MNIST\n",
    "###"
   ]
  },
  {
   "cell_type": "code",
   "execution_count": 5,
   "metadata": {},
   "outputs": [],
   "source": [
    "(train_x, train_y), (test_x, test_y) = mnist.load_data()"
   ]
  },
  {
   "cell_type": "code",
   "execution_count": 6,
   "metadata": {},
   "outputs": [
    {
     "name": "stdout",
     "output_type": "stream",
     "text": [
      "(60000, 28, 28)\n",
      "[0 0 0 ... 0 0 0]\n",
      "(10000, 28, 28)\n"
     ]
    }
   ],
   "source": [
    "print(train_x.shape)\n",
    "print(train_x.flatten())\n",
    "print(test_x.shape)\n",
    "\n",
    "data = []\n",
    "train_data = train_x.tolist()\n",
    "test_data = test_x.tolist()\n",
    "for value in train_data:\n",
    "    data.append(value)\n",
    "for item in test_data:\n",
    "    data.append(item)\n",
    "data = np.array(data)\n",
    "\n",
    "#Standardize data\n",
    "inputs = train_x - np.mean(data)\n",
    "inputs = inputs/(np.std(data))\n",
    "\n",
    "#standardize test data\n",
    "test_inputs = test_x - np.mean(data)\n",
    "test_inputs = test_inputs/(np.std(data))\n",
    "\n",
    "targets = train_y\n",
    "test_targets = test_y"
   ]
  },
  {
   "cell_type": "code",
   "execution_count": 7,
   "metadata": {},
   "outputs": [],
   "source": [
    "#One-hot encoding\n",
    "def create_target(t):\n",
    "        target_vector = np.zeros(10)\n",
    "        for i in range(10):\n",
    "            if i == t:\n",
    "                target_vector[i] = 1\n",
    "        return target_vector\n",
    "\n",
    "#Hard sigmoid [-1, 1]\n",
    "def hsig(x):\n",
    "    z = np.clip(x, -1, 1)\n",
    "    return np.copy(z)\n",
    "\n",
    "def d_hsig(x):\n",
    "    z = (x > -1) & (x < 1)\n",
    "    return np.copy(z)\n",
    "\n",
    "def sigmoid(x):\n",
    "    return 1 / (1 + np.exp(-x))"
   ]
  },
  {
   "cell_type": "code",
   "execution_count": 8,
   "metadata": {
    "scrolled": true
   },
   "outputs": [
    {
     "name": "stdout",
     "output_type": "stream",
     "text": [
      "epoch 12000 of 12000 -- ex: 59900 -- mse: 0.0359665614181586555\r"
     ]
    }
   ],
   "source": [
    "#Define network hyperparameters\n",
    "n_x = 784\n",
    "n_h = 500\n",
    "n_y = 10\n",
    "\n",
    "alpha1 = 0.01\n",
    "alpha2 = 0.005\n",
    "beta = 1\n",
    "epsilon = 0.1\n",
    "\n",
    "epochs = 12000\n",
    "\n",
    "x_plot = []\n",
    "h_plot = []\n",
    "y_plot = []\n",
    "w1_plot = []\n",
    "w2_plot = []\n",
    "energy_plot = []\n",
    "first_term_plot = []\n",
    "second_term_plot = []\n",
    "third_term_plot = []\n",
    "\n",
    "#Weight intialization\n",
    "W1 = np.random.uniform(0, (4/(n_x + n_y)), (n_x, n_h))\n",
    "W2 = np.random.uniform(0, (4/(n_h)), (n_h, n_y))\n",
    "\n",
    "#Bias initialization\n",
    "bh = np.random.uniform(0, 4/(n_x + n_y), n_h)\n",
    "by = np.random.uniform(0, 4/(n_h), n_y)\n",
    "\n",
    "for ex in range(epochs*100):\n",
    "    \n",
    "    #Randomly sample from data\n",
    "    #rnd = np.random.randint(0, 60000)\n",
    "    index = ex % len(inputs)\n",
    "    x = inputs[index].flatten()\n",
    "    t = create_target(targets[index])\n",
    "    #x = inputs[rnd].flatten()# + 0.1 * np.random.rand(64)\n",
    "    #t = create_target(targets[rnd])\n",
    "    \n",
    "    #Random activation initialization\n",
    "    h = np.random.uniform(-1, 1, n_h)\n",
    "    y = np.random.uniform(-1, 1, n_y)\n",
    "    \n",
    "    #Free Phase\n",
    "    for itr in range(100):\n",
    "        #Calculate free gradient steps\n",
    "        dh = d_hsig(h) * (np.dot(x, W1) + np.dot(y, W2.T) + bh) - h\n",
    "        dy = d_hsig(y) * (np.dot(h, W2) + by) - y\n",
    "        \n",
    "        #Update activations\n",
    "        h = hsig(h + epsilon * dh)\n",
    "        y = hsig(y + epsilon * dy)\n",
    "        \n",
    "    #Store free equilibrium states\n",
    "    h_free = np.copy(h)\n",
    "    y_free = np.copy(y)\n",
    "    \n",
    "    #Weakly Clamped Phase\n",
    "    for itr in range(50):\n",
    "        #Calculate weakly clamped gradient steps\n",
    "        dy = d_hsig(y) * (np.dot(h, W2) + by) - y + beta * (t - y)\n",
    "        dh = d_hsig(h) * (np.dot(x, W1) + np.dot(y, W2.T) + bh) - h\n",
    "        \n",
    "        #Update activations\n",
    "        h = hsig(h + epsilon * dh)\n",
    "        y = hsig(y + epsilon * dy)\n",
    "        \n",
    "    #Store weakly clamped activations\n",
    "    h_clamped = np.copy(h)\n",
    "    y_clamped = np.copy(y)\n",
    "    \n",
    "    x_plot.append(np.mean(x))\n",
    "    h_plot.append(np.mean(h))\n",
    "    y_plot.append(np.mean(y))\n",
    "    \n",
    "    #Update weights\n",
    "    W1 += alpha1 * (1/beta) * (np.outer(x, h_clamped) - np.outer(x, h_free))\n",
    "    W2 += alpha2 * (1/beta) * (np.outer(h_clamped, y_clamped) - np.outer(h_free, y_free))\n",
    "    \n",
    "    w1_plot.append(np.sum(W1))\n",
    "    w2_plot.append(np.sum(W2))\n",
    "    \n",
    "    #Print Mean Squared Error\n",
    "    if ex % 100 == 0:\n",
    "        \n",
    "        mse = np.dot(t - y_free, t - y_free)\n",
    "        \n",
    "        print('epoch '+str((ex//100)+1)+' of '+str(epochs)+' -- ex: '+str(index)+' -- mse: '+str(mse), end = \"\\r\")\n",
    "        \n",
    "        energy = epsilon * 0.5 * (np.sum(x**2) + np.sum(h**2) + np.sum(y**2))\n",
    "        \n",
    "        w1_mat = W1 * np.outer(hsig(x),hsig(h))\n",
    "        np.fill_diagonal(w1_mat,0)\n",
    "        energy -= 0.5 * np.sum(w1_mat)\n",
    "        \n",
    "        w2_mat = W2 * np.outer(hsig(h),hsig(y))\n",
    "        np.fill_diagonal(w2_mat,0)\n",
    "        energy -= 0.5 * np.sum(w2_mat)\n",
    "\n",
    "        energy -= 0.5 * np.sum(bh * hsig(h))\n",
    "        energy -= 0.5 * np.sum(by * hsig(y))\n",
    "        energy += np.sum((t - y_free)**2)\n",
    "        energy_plot.append(energy)\n",
    "        \n",
    "    #Learning rate schedule\n",
    "    if ex % 60000 == 59999:\n",
    "        alpha1 /= 10\n",
    "        alpha2 /= 10"
   ]
  },
  {
   "cell_type": "code",
   "execution_count": 6,
   "metadata": {},
   "outputs": [
    {
     "data": {
      "image/png": "[encoded data removed]",
      "text/plain": [
       "<Figure size 432x288 with 1 Axes>"
      ]
     },
     "metadata": {
      "needs_background": "light"
     },
     "output_type": "display_data"
    }
   ],
   "source": [
    "plt.plot(energy_plot)\n",
    "plt.show()"
   ]
  },
  {
   "cell_type": "code",
   "execution_count": 9,
   "metadata": {},
   "outputs": [
    {
     "name": "stdout",
     "output_type": "stream",
     "text": [
      "tested sample 10000 of 10000\n",
      "\n",
      "0.9099\n"
     ]
    }
   ],
   "source": [
    "#Test Accuracy\n",
    "\n",
    "###\n",
    "### Gets 91.31% on MNIST after 3 epochs\n",
    "###\n",
    "### 90.59% after 2 epochs\n",
    "###\n",
    "### Running for 20 epochs...\n",
    "### GOt 90.99% after 20 epochs\n",
    "###\n",
    "\n",
    "score = 0\n",
    "samples = 10000\n",
    "for test in range(samples):\n",
    "    rnd = test\n",
    "    x = test_inputs[rnd].flatten()\n",
    "    t = create_target(test_targets[rnd])\n",
    "    h = np.random.uniform(-1, 1, n_h)\n",
    "    y = np.random.uniform(-1, 1, n_y)\n",
    "    \n",
    "    #Free Phase\n",
    "    for itr in range(100):\n",
    "        dh = d_hsig(h) * (np.dot(x, W1) + np.dot(y, W2.T) + bh) - h\n",
    "        dy = d_hsig(y) * (np.dot(h, W2) + by) - y\n",
    "        \n",
    "        h = hsig(h + epsilon * dh)\n",
    "        y = hsig(y + epsilon * dy)\n",
    "        \n",
    "    h_free = np.copy(h)\n",
    "    y_free = np.copy(y)\n",
    "    \n",
    "    if np.argmax(y_free) == test_targets[rnd]:\n",
    "        score += 1\n",
    "    \n",
    "    print('tested sample ' + str(test+1) + ' of '+str(samples), end = \"\\r\")\n",
    "\n",
    "print('\\n')\n",
    "print(score/samples)"
   ]
  },
  {
   "cell_type": "code",
   "execution_count": 45,
   "metadata": {},
   "outputs": [],
   "source": [
    "###\n",
    "### Initialized Regular MNIST\n",
    "###"
   ]
  },
  {
   "cell_type": "code",
   "execution_count": 46,
   "metadata": {},
   "outputs": [],
   "source": [
    "(train_x, train_y), (test_x, test_y) = mnist.load_data()"
   ]
  },
  {
   "cell_type": "code",
   "execution_count": 47,
   "metadata": {},
   "outputs": [
    {
     "name": "stdout",
     "output_type": "stream",
     "text": [
      "(60000, 28, 28)\n",
      "[0 0 0 ... 0 0 0]\n",
      "(10000, 28, 28)\n"
     ]
    }
   ],
   "source": [
    "print(train_x.shape)\n",
    "print(train_x.flatten())\n",
    "print(test_x.shape)\n",
    "\n",
    "data = []\n",
    "train_data = train_x.tolist()\n",
    "test_data = test_x.tolist()\n",
    "for value in train_data:\n",
    "    data.append(value)\n",
    "for item in test_data:\n",
    "    data.append(item)\n",
    "data = np.array(data)\n",
    "\n",
    "#Standardize data\n",
    "inputs = train_x - np.mean(data)\n",
    "inputs = inputs/(np.std(data))\n",
    "\n",
    "#standardize test data\n",
    "test_inputs = test_x - np.mean(data)\n",
    "test_inputs = test_inputs/(np.std(data))\n",
    "\n",
    "targets = train_y\n",
    "test_targets = test_y"
   ]
  },
  {
   "cell_type": "code",
   "execution_count": 48,
   "metadata": {},
   "outputs": [],
   "source": [
    "#One-hot encoding\n",
    "def create_target(t):\n",
    "        target_vector = np.zeros(10)\n",
    "        for i in range(10):\n",
    "            if i == t:\n",
    "                target_vector[i] = 1\n",
    "        return target_vector\n",
    "\n",
    "#Hard sigmoid [-1, 1]\n",
    "def hsig(x):\n",
    "    z = np.clip(x, -1, 1)\n",
    "    return np.copy(z)\n",
    "\n",
    "def d_hsig(x):\n",
    "    z = (x > -1) & (x < 1)\n",
    "    return np.copy(z)\n",
    "\n",
    "def sigmoid(x):\n",
    "    return 1 / (1 + np.exp(-x))"
   ]
  },
  {
   "cell_type": "code",
   "execution_count": 49,
   "metadata": {},
   "outputs": [
    {
     "name": "stdout",
     "output_type": "stream",
     "text": [
      "epoch 1 of 0.01 -- ex: 0 -- mse: 8.620000000000001\r"
     ]
    }
   ],
   "source": [
    "#Define network hyperparameters\n",
    "n_x = 784\n",
    "n_h = 500\n",
    "n_y = 10\n",
    "\n",
    "alpha1 = 0.01\n",
    "alpha2 = 0.005\n",
    "beta = 1\n",
    "epsilon = 0.1\n",
    "#epsilon = 0.01\n",
    "\n",
    "epochs = .01\n",
    "\n",
    "x_plot = []\n",
    "h_plot = []\n",
    "y_plot = []\n",
    "w1_plot = []\n",
    "w2_plot = []\n",
    "energy_plot = []\n",
    "first_term_plot = []\n",
    "second_term_plot = []\n",
    "third_term_plot = []\n",
    "\n",
    "#Weight intialization\n",
    "#W1 = np.random.uniform(0, (4/(n_x + n_y)), (n_x, n_h))\n",
    "#W2 = np.random.uniform(0, (4/(n_h)), (n_h, n_y))\n",
    "\n",
    "#Bias initialization\n",
    "#bh = np.random.uniform(0, 4/(n_x + n_y), n_h)\n",
    "#by = np.random.uniform(0, 4/(n_h), n_y)\n",
    "\n",
    "W1 = np.load('reg_w1.npy')\n",
    "W2 = np.load('reg_w2.npy')\n",
    "bh = np.load('reg_bh.npy')\n",
    "by = np.load('reg_by.npy')\n",
    "\n",
    "for ex in range(int(epochs*100)):\n",
    "    \n",
    "    #Randomly sample from data\n",
    "    #rnd = np.random.randint(0, 60000)\n",
    "    index = ex % len(inputs)\n",
    "    x = inputs[index].flatten()\n",
    "    t = create_target(targets[index])\n",
    "    #x = inputs[rnd].flatten()# + 0.1 * np.random.rand(64)\n",
    "    #t = create_target(targets[rnd])\n",
    "    \n",
    "    #Random activation initialization\n",
    "    h = np.random.uniform(-1, 1, n_h)\n",
    "    y = np.random.uniform(-1, 1, n_y)\n",
    "    \n",
    "    #Free Phase\n",
    "    for itr in range(100):\n",
    "        #Calculate free gradient steps\n",
    "        dh = d_hsig(h) * (np.dot(x, W1) + np.dot(y, W2.T) + bh) - h\n",
    "        dy = d_hsig(y) * (np.dot(h, W2) + by) - y\n",
    "        \n",
    "        #Update activations\n",
    "        h = hsig(h + epsilon * dh)\n",
    "        y = hsig(y + epsilon * dy)\n",
    "        \n",
    "    #Store free equilibrium states\n",
    "    h_free = np.copy(h)\n",
    "    y_free = np.copy(y)\n",
    "    \n",
    "    #Weakly Clamped Phase\n",
    "    for itr in range(50):\n",
    "        #Calculate weakly clamped gradient steps\n",
    "        dy = d_hsig(y) * (np.dot(h, W2) + by) - y + beta * (t - y)\n",
    "        dh = d_hsig(h) * (np.dot(x, W1) + np.dot(y, W2.T) + bh) - h\n",
    "        \n",
    "        #Update activations\n",
    "        h = hsig(h + epsilon * dh)\n",
    "        y = hsig(y + epsilon * dy)\n",
    "        \n",
    "    #Store weakly clamped activations\n",
    "    h_clamped = np.copy(h)\n",
    "    y_clamped = np.copy(y)\n",
    "    \n",
    "    x_plot.append(np.mean(x))\n",
    "    h_plot.append(np.mean(h))\n",
    "    y_plot.append(np.mean(y))\n",
    "    \n",
    "    #Update weights\n",
    "    W1 += alpha1 * (1/beta) * (np.outer(x, h_clamped) - np.outer(x, h_free))\n",
    "    W2 += alpha2 * (1/beta) * (np.outer(h_clamped, y_clamped) - np.outer(h_free, y_free))\n",
    "    \n",
    "    w1_plot.append(np.sum(W1))\n",
    "    w2_plot.append(np.sum(W2))\n",
    "    \n",
    "    #Print Mean Squared Error\n",
    "    if ex % 100 == 0:\n",
    "        \n",
    "        mse = np.dot(t - y_free, t - y_free)\n",
    "        \n",
    "        print('epoch '+str((ex//100)+1)+' of '+str(epochs)+' -- ex: '+str(index)+' -- mse: '+str(mse), end = \"\\r\")\n",
    "        \n",
    "        energy = epsilon * 0.5 * (np.sum(x**2) + np.sum(h**2) + np.sum(y**2))\n",
    "        \n",
    "        w1_mat = W1 * np.outer(hsig(x),hsig(h))\n",
    "        np.fill_diagonal(w1_mat,0)\n",
    "        energy -= 0.5 * np.sum(w1_mat)\n",
    "        \n",
    "        w2_mat = W2 * np.outer(hsig(h),hsig(y))\n",
    "        np.fill_diagonal(w2_mat,0)\n",
    "        energy -= 0.5 * np.sum(w2_mat)\n",
    "\n",
    "        energy -= 0.5 * np.sum(bh * hsig(h))\n",
    "        energy -= 0.5 * np.sum(by * hsig(y))\n",
    "        energy += np.sum((t - y_free)**2)\n",
    "        energy_plot.append(energy)\n",
    "        \n",
    "    #Learning rate schedule\n",
    "    if ex % 60000 == 59999:\n",
    "        alpha1 /= 10\n",
    "        alpha2 /= 10"
   ]
  },
  {
   "cell_type": "code",
   "execution_count": 51,
   "metadata": {},
   "outputs": [
    {
     "name": "stdout",
     "output_type": "stream",
     "text": [
      "tested sample 10000 of 10000\n",
      "\n",
      "0.9574\n"
     ]
    }
   ],
   "source": [
    "#Test Accuracy\n",
    "score = 0\n",
    "samples = 10000\n",
    "for test in range(samples):\n",
    "    energy_plot = []\n",
    "    rnd = test\n",
    "    x = test_inputs[rnd].flatten()\n",
    "    t = create_target(test_targets[rnd])\n",
    "    h = np.random.uniform(-1, 1, n_h)\n",
    "    y = np.random.uniform(-1, 1, n_y)\n",
    "    \n",
    "    #Free Phase\n",
    "    for itr in range(100):\n",
    "        dh = d_hsig(h) * (np.dot(x, W1) + np.dot(y, W2.T) + bh) - h\n",
    "        dy = d_hsig(y) * (np.dot(h, W2) + by) - y\n",
    "        \n",
    "        h = hsig(h + epsilon * dh)\n",
    "        y = hsig(y + epsilon * dy)\n",
    "        \n",
    "        energy = 0.5 * (np.sum(x**2) + np.sum(h**2) + np.sum(y**2))\n",
    "        \n",
    "        w1_mat = W1 * np.outer(hsig(x),hsig(h))\n",
    "        np.fill_diagonal(w1_mat,0)\n",
    "        energy -= 0.5 * np.sum(w1_mat)\n",
    "        \n",
    "        w2_mat = W2 * np.outer(hsig(h),hsig(y))\n",
    "        np.fill_diagonal(w2_mat,0)\n",
    "        energy -= 0.5 * np.sum(w2_mat)\n",
    "\n",
    "        energy -= 0.5 * np.sum(bh * hsig(h))\n",
    "        energy -= 0.5 * np.sum(by * hsig(y))\n",
    "        energy += np.sum((t - y_free)**2)\n",
    "        energy_plot.append(energy)\n",
    "        \n",
    "    h_free = np.copy(h)\n",
    "    y_free = np.copy(y)\n",
    "    \n",
    "    if np.argmax(y_free) == test_targets[rnd]:\n",
    "        score += 1\n",
    "    \n",
    "    print('tested sample ' + str(test+1) + ' of '+str(samples), end = \"\\r\")\n",
    "\n",
    "print('\\n')\n",
    "print(score/samples)"
   ]
  },
  {
   "cell_type": "code",
   "execution_count": 52,
   "metadata": {},
   "outputs": [
    {
     "data": {
      "image/png": "[encoded data removed]",
      "text/plain": [
       "<Figure size 432x288 with 1 Axes>"
      ]
     },
     "metadata": {
      "needs_background": "light"
     },
     "output_type": "display_data"
    }
   ],
   "source": [
    "plt.plot(energy_plot)\n",
    "plt.show()"
   ]
  },
  {
   "cell_type": "code",
   "execution_count": 8,
   "metadata": {},
   "outputs": [],
   "source": [
    "###\n",
    "### Energy plot after normal training\n",
    "###"
   ]
  },
  {
   "cell_type": "code",
   "execution_count": 13,
   "metadata": {},
   "outputs": [
    {
     "name": "stdout",
     "output_type": "stream",
     "text": [
      "epoch 10 of 10 -- ex: 900 -- mse: 0.8477245382269593\r"
     ]
    }
   ],
   "source": [
    "#Define network hyperparameters\n",
    "n_x = 784\n",
    "n_h = 500\n",
    "n_y = 10\n",
    "\n",
    "alpha1 = 0.01\n",
    "alpha2 = 0.005\n",
    "beta = 1\n",
    "#epsilon = 0.1\n",
    "epsilon = 0.01\n",
    "\n",
    "epochs = 10\n",
    "\n",
    "x_plot = []\n",
    "h_plot = []\n",
    "y_plot = []\n",
    "w1_plot = []\n",
    "w2_plot = []\n",
    "energy_plot = []\n",
    "first_term_plot = []\n",
    "second_term_plot = []\n",
    "third_term_plot = []\n",
    "\n",
    "#Weight intialization\n",
    "W1 = np.random.uniform(0, (4/(n_x + n_y)), (n_x, n_h))\n",
    "W2 = np.random.uniform(0, (4/(n_h)), (n_h, n_y))\n",
    "\n",
    "#Bias initialization\n",
    "bh = np.random.uniform(0, 4/(n_x + n_y), n_h)\n",
    "by = np.random.uniform(0, 4/(n_h), n_y)\n",
    "\n",
    "#W1 = np.load('reg_w1.npy')\n",
    "#W2 = np.load('reg_w2.npy')\n",
    "#bh = np.load('reg_bh.npy')\n",
    "#by = np.load('reg_by.npy')\n",
    "\n",
    "for ex in range(int(epochs*100)):\n",
    "    \n",
    "    #Randomly sample from data\n",
    "    #rnd = np.random.randint(0, 60000)\n",
    "    index = ex % len(inputs)\n",
    "    x = inputs[index].flatten()\n",
    "    t = create_target(targets[index])\n",
    "    #x = inputs[rnd].flatten()# + 0.1 * np.random.rand(64)\n",
    "    #t = create_target(targets[rnd])\n",
    "    \n",
    "    #Random activation initialization\n",
    "    h = np.random.uniform(-1, 1, n_h)\n",
    "    y = np.random.uniform(-1, 1, n_y)\n",
    "    \n",
    "    #Free Phase\n",
    "    for itr in range(1000):\n",
    "        #Calculate free gradient steps\n",
    "        dh = d_hsig(h) * (np.dot(x, W1) + np.dot(y, W2.T) + bh) - h\n",
    "        dy = d_hsig(y) * (np.dot(h, W2) + by) - y\n",
    "        \n",
    "        #Update activations\n",
    "        h = hsig(h + epsilon * dh)\n",
    "        y = hsig(y + epsilon * dy)\n",
    "        \n",
    "    #Store free equilibrium states\n",
    "    h_free = np.copy(h)\n",
    "    y_free = np.copy(y)\n",
    "    \n",
    "    #Weakly Clamped Phase\n",
    "    for itr in range(500):\n",
    "        #Calculate weakly clamped gradient steps\n",
    "        dy = d_hsig(y) * (np.dot(h, W2) + by) - y + beta * (t - y)\n",
    "        dh = d_hsig(h) * (np.dot(x, W1) + np.dot(y, W2.T) + bh) - h\n",
    "        \n",
    "        #Update activations\n",
    "        h = hsig(h + epsilon * dh)\n",
    "        y = hsig(y + epsilon * dy)\n",
    "        \n",
    "    #Store weakly clamped activations\n",
    "    h_clamped = np.copy(h)\n",
    "    y_clamped = np.copy(y)\n",
    "    \n",
    "    x_plot.append(np.mean(x))\n",
    "    h_plot.append(np.mean(h))\n",
    "    y_plot.append(np.mean(y))\n",
    "    \n",
    "    #Update weights\n",
    "    W1 += alpha1 * (1/beta) * (np.outer(x, h_clamped) - np.outer(x, h_free))\n",
    "    W2 += alpha2 * (1/beta) * (np.outer(h_clamped, y_clamped) - np.outer(h_free, y_free))\n",
    "    \n",
    "    w1_plot.append(np.sum(W1))\n",
    "    w2_plot.append(np.sum(W2))\n",
    "    \n",
    "    #Print Mean Squared Error\n",
    "    if ex % 100 == 0:\n",
    "        \n",
    "        mse = np.dot(t - y_free, t - y_free)\n",
    "        \n",
    "        print('epoch '+str((ex//100)+1)+' of '+str(epochs)+' -- ex: '+str(index)+' -- mse: '+str(mse), end = \"\\r\")\n",
    "        \n",
    "        energy = epsilon * 0.5 * (np.sum(x**2) + np.sum(h**2) + np.sum(y**2))\n",
    "        \n",
    "        w1_mat = W1 * np.outer(hsig(x),hsig(h))\n",
    "        np.fill_diagonal(w1_mat,0)\n",
    "        energy -= 0.5 * np.sum(w1_mat)\n",
    "        \n",
    "        w2_mat = W2 * np.outer(hsig(h),hsig(y))\n",
    "        np.fill_diagonal(w2_mat,0)\n",
    "        energy -= 0.5 * np.sum(w2_mat)\n",
    "\n",
    "        energy -= 0.5 * np.sum(bh * hsig(h))\n",
    "        energy -= 0.5 * np.sum(by * hsig(y))\n",
    "        energy += np.sum((t - y_free)**2)\n",
    "        energy_plot.append(energy)\n",
    "        \n",
    "    #Learning rate schedule\n",
    "    if ex % 60000 == 59999:\n",
    "        alpha1 /= 10\n",
    "        alpha2 /= 10"
   ]
  },
  {
   "cell_type": "code",
   "execution_count": 14,
   "metadata": {},
   "outputs": [
    {
     "name": "stdout",
     "output_type": "stream",
     "text": [
      "tested sample 10 of 10\n",
      "\n",
      "0.6\n"
     ]
    }
   ],
   "source": [
    "#Test Accuracy\n",
    "score = 0\n",
    "samples = 10\n",
    "for test in range(samples):\n",
    "    energy_plot = []\n",
    "    rnd = test\n",
    "    x = test_inputs[rnd].flatten()\n",
    "    t = create_target(test_targets[rnd])\n",
    "    h = np.random.uniform(-1, 1, n_h)\n",
    "    y = np.random.uniform(-1, 1, n_y)\n",
    "    \n",
    "    #Free Phase\n",
    "    for itr in range(1000):\n",
    "        dh = d_hsig(h) * (np.dot(x, W1) + np.dot(y, W2.T) + bh) - h\n",
    "        dy = d_hsig(y) * (np.dot(h, W2) + by) - y\n",
    "        \n",
    "        h = hsig(h + epsilon * dh)\n",
    "        y = hsig(y + epsilon * dy)\n",
    "        \n",
    "        energy = 0.5 * (np.sum(x**2) + np.sum(h**2) + np.sum(y**2))\n",
    "        \n",
    "        w1_mat = W1 * np.outer(hsig(x),hsig(h))\n",
    "        np.fill_diagonal(w1_mat,0)\n",
    "        energy -= 0.5 * np.sum(w1_mat)\n",
    "        \n",
    "        w2_mat = W2 * np.outer(hsig(h),hsig(y))\n",
    "        np.fill_diagonal(w2_mat,0)\n",
    "        energy -= 0.5 * np.sum(w2_mat)\n",
    "\n",
    "        energy -= 0.5 * np.sum(bh * hsig(h))\n",
    "        energy -= 0.5 * np.sum(by * hsig(y))\n",
    "        energy += np.sum((t - y_free)**2)\n",
    "        energy_plot.append(energy)\n",
    "        \n",
    "    h_free = np.copy(h)\n",
    "    y_free = np.copy(y)\n",
    "    \n",
    "    if np.argmax(y_free) == test_targets[rnd]:\n",
    "        score += 1\n",
    "    \n",
    "    print('tested sample ' + str(test+1) + ' of '+str(samples), end = \"\\r\")\n",
    "\n",
    "print('\\n')\n",
    "print(score/samples)"
   ]
  },
  {
   "cell_type": "code",
   "execution_count": 18,
   "metadata": {},
   "outputs": [
    {
     "data": {
      "image/png": "[encoded data removed]",
      "text/plain": [
       "<Figure size 432x288 with 1 Axes>"
      ]
     },
     "metadata": {
      "needs_background": "light"
     },
     "output_type": "display_data"
    }
   ],
   "source": [
    "plt.plot(energy_plot)\n",
    "plt.xlabel('Timestep')\n",
    "plt.ylabel('Energy')\n",
    "plt.savefig('energy.svg')\n",
    "plt.show()"
   ]
  },
  {
   "cell_type": "code",
   "execution_count": 233,
   "metadata": {},
   "outputs": [],
   "source": [
    "###\n",
    "### Mini MNIST\n",
    "###"
   ]
  },
  {
   "cell_type": "code",
   "execution_count": 234,
   "metadata": {},
   "outputs": [],
   "source": [
    "#One-hot encoding\n",
    "def create_target(t):\n",
    "        target_vector = np.zeros(10)\n",
    "        for i in range(10):\n",
    "            if i == t:\n",
    "                target_vector[i] = 1\n",
    "        return target_vector\n",
    "\n",
    "#Hard sigmoid [-1, 1]\n",
    "def hsig(x):\n",
    "    z = np.clip(x, -1, 1)\n",
    "    return np.copy(z)\n",
    "\n",
    "def d_hsig(x):\n",
    "    z = (x > -1) & (x < 1)\n",
    "    return np.copy(z)\n",
    "\n",
    "def sigmoid(x):\n",
    "    return 1 / (1 + np.exp(-x))"
   ]
  },
  {
   "cell_type": "code",
   "execution_count": 235,
   "metadata": {},
   "outputs": [],
   "source": [
    "#Load mini MNIST data\n",
    "digits = datasets.load_digits()\n",
    "data = digits.data\n",
    "targets = digits.target\n",
    "\n",
    "#Standardize data\n",
    "inputs = data - np.mean(data)\n",
    "inputs = inputs/(np.std(data))"
   ]
  },
  {
   "cell_type": "code",
   "execution_count": 236,
   "metadata": {},
   "outputs": [
    {
     "name": "stdout",
     "output_type": "stream",
     "text": [
      "(1797, 64)\n",
      "(1797,)\n",
      "[ 0.  0.  5. 13.  9.  1.  0.  0.  0.  0. 13. 15. 10. 15.  5.  0.  0.  3.\n",
      " 15.  2.  0. 11.  8.  0.  0.  4. 12.  0.  0.  8.  8.  0.  0.  5.  8.  0.\n",
      "  0.  9.  8.  0.  0.  4. 11.  0.  1. 12.  7.  0.  0.  2. 14.  5. 10. 12.\n",
      "  0.  0.  0.  0.  6. 13. 10.  0.  0.  0.]\n",
      "1\n"
     ]
    }
   ],
   "source": [
    "print(data.shape)\n",
    "print(targets.shape)\n",
    "print(data[0])\n",
    "print(targets[11])"
   ]
  },
  {
   "cell_type": "code",
   "execution_count": 7,
   "metadata": {
    "scrolled": true
   },
   "outputs": [
    {
     "ename": "ValueError",
     "evalue": "shapes (28,28) and (64,50) not aligned: 28 (dim 1) != 64 (dim 0)",
     "output_type": "error",
     "traceback": [
      "\u001b[0;31m---------------------------------------------------------------------------\u001b[0m",
      "\u001b[0;31mValueError\u001b[0m                                Traceback (most recent call last)",
      "Input \u001b[0;32mIn [7]\u001b[0m, in \u001b[0;36m<module>\u001b[0;34m\u001b[0m\n\u001b[1;32m     42\u001b[0m \u001b[38;5;66;03m#Free Phase\u001b[39;00m\n\u001b[1;32m     43\u001b[0m \u001b[38;5;28;01mfor\u001b[39;00m itr \u001b[38;5;129;01min\u001b[39;00m \u001b[38;5;28mrange\u001b[39m(\u001b[38;5;241m100\u001b[39m):\n\u001b[1;32m     44\u001b[0m     \u001b[38;5;66;03m#Calculate free gradient steps\u001b[39;00m\n\u001b[0;32m---> 45\u001b[0m     dh \u001b[38;5;241m=\u001b[39m d_hsig(h) \u001b[38;5;241m*\u001b[39m (\u001b[43mnp\u001b[49m\u001b[38;5;241;43m.\u001b[39;49m\u001b[43mdot\u001b[49m\u001b[43m(\u001b[49m\u001b[43mx\u001b[49m\u001b[43m,\u001b[49m\u001b[43m \u001b[49m\u001b[43mW1\u001b[49m\u001b[43m)\u001b[49m \u001b[38;5;241m+\u001b[39m np\u001b[38;5;241m.\u001b[39mdot(y, W2\u001b[38;5;241m.\u001b[39mT) \u001b[38;5;241m+\u001b[39m bh) \u001b[38;5;241m-\u001b[39m h\n\u001b[1;32m     46\u001b[0m     dy \u001b[38;5;241m=\u001b[39m d_hsig(y) \u001b[38;5;241m*\u001b[39m (np\u001b[38;5;241m.\u001b[39mdot(h, W2) \u001b[38;5;241m+\u001b[39m by) \u001b[38;5;241m-\u001b[39m y\n\u001b[1;32m     48\u001b[0m     \u001b[38;5;66;03m#Update activations\u001b[39;00m\n",
      "File \u001b[0;32m<__array_function__ internals>:180\u001b[0m, in \u001b[0;36mdot\u001b[0;34m(*args, **kwargs)\u001b[0m\n",
      "\u001b[0;31mValueError\u001b[0m: shapes (28,28) and (64,50) not aligned: 28 (dim 1) != 64 (dim 0)"
     ]
    }
   ],
   "source": [
    "#Define network hyperparameters\n",
    "n_x = 64\n",
    "n_h = 50\n",
    "n_y = 10\n",
    "\n",
    "alpha1 = 0.01\n",
    "alpha2 = 0.005\n",
    "beta = 1\n",
    "epsilon = 0.1\n",
    "\n",
    "epochs = 50\n",
    "\n",
    "x_plot = []\n",
    "h_plot = []\n",
    "y_plot = []\n",
    "w1_plot = []\n",
    "w2_plot = []\n",
    "energy_plot = []\n",
    "first_term_plot = []\n",
    "second_term_plot = []\n",
    "third_term_plot = []\n",
    "\n",
    "#Weight intialization\n",
    "W1 = np.random.uniform(0, (4/(n_x + n_y)), (n_x, n_h))\n",
    "W2 = np.random.uniform(0, (4/(n_h)), (n_h, n_y))\n",
    "\n",
    "#Bias initialization\n",
    "bh = np.random.uniform(0, 4/(n_x + n_y), n_h)\n",
    "by = np.random.uniform(0, 4/(n_h), n_y)\n",
    "\n",
    "for ex in range(epochs*100):\n",
    "    \n",
    "    #Randomly sample from data\n",
    "    rnd = np.random.randint(0, 1497)\n",
    "    x = inputs[rnd]# + 0.1 * np.random.rand(64)\n",
    "    t = create_target(targets[rnd])\n",
    "    \n",
    "    #Random activation initialization\n",
    "    h = np.random.uniform(-1, 1, n_h)\n",
    "    y = np.random.uniform(-1, 1, n_y)\n",
    "    \n",
    "    #Free Phase\n",
    "    for itr in range(100):\n",
    "        #Calculate free gradient steps\n",
    "        dh = d_hsig(h) * (np.dot(x, W1) + np.dot(y, W2.T) + bh) - h\n",
    "        dy = d_hsig(y) * (np.dot(h, W2) + by) - y\n",
    "        \n",
    "        #Update activations\n",
    "        h = hsig(h + epsilon * dh)\n",
    "        y = hsig(y + epsilon * dy)\n",
    "        \n",
    "    #Store free equilibrium states\n",
    "    h_free = np.copy(h)\n",
    "    y_free = np.copy(y)\n",
    "    \n",
    "    #Weakly Clamped Phase\n",
    "    for itr in range(20):\n",
    "        #Calculate weakly clamped gradient steps\n",
    "        dy = d_hsig(y) * (np.dot(h, W2) + by) - y + beta * (t - y)\n",
    "        dh = d_hsig(h) * (np.dot(x, W1) + np.dot(y, W2.T) + bh) - h\n",
    "        \n",
    "        #Update activations\n",
    "        h = hsig(h + epsilon * dh)\n",
    "        y = hsig(y + epsilon * dy)\n",
    "        \n",
    "    #Store weakly clamped activations\n",
    "    h_clamped = np.copy(h)\n",
    "    y_clamped = np.copy(y)\n",
    "    \n",
    "    x_plot.append(np.mean(x))\n",
    "    h_plot.append(np.mean(h))\n",
    "    y_plot.append(np.mean(y))\n",
    "    \n",
    "    #Update weights\n",
    "    W1 += alpha1 * (1/beta) * (np.outer(x, h_clamped) - np.outer(x, h_free))\n",
    "    W2 += alpha2 * (1/beta) * (np.outer(h_clamped, y_clamped) - np.outer(h_free, y_free))\n",
    "    \n",
    "    w1_plot.append(np.sum(W1))\n",
    "    w2_plot.append(np.sum(W2))\n",
    "    \n",
    "    #Print Mean Squared Error\n",
    "    if ex % 100 == 0:\n",
    "        print(np.dot(t - y_free, t - y_free))\n",
    "        \n",
    "        energy = epsilon * 0.5 * (np.sum(x**2) + np.sum(h**2) + np.sum(y**2))\n",
    "        \n",
    "        w1_mat = W1 * np.outer(hsig(x),hsig(h))\n",
    "        np.fill_diagonal(w1_mat,0)\n",
    "        energy -= 0.5 * np.sum(w1_mat)\n",
    "        \n",
    "        w2_mat = W2 * np.outer(hsig(h),hsig(y))\n",
    "        np.fill_diagonal(w2_mat,0)\n",
    "        energy -= 0.5 * np.sum(w2_mat)\n",
    "\n",
    "        energy -= 0.5 * np.sum(bh * hsig(h))\n",
    "        energy -= 0.5 * np.sum(by * hsig(y))\n",
    "        energy += np.sum((t - y_free)**2)\n",
    "        energy_plot.append(energy)\n",
    "        \n",
    "    #Learning rate schedule\n",
    "    if ex % 2500 == 2499:\n",
    "        alpha1 /= 10\n",
    "        alpha2 /= 10"
   ]
  },
  {
   "cell_type": "code",
   "execution_count": 238,
   "metadata": {},
   "outputs": [
    {
     "data": {
      "image/png": "[encoded data removed]",
      "text/plain": [
       "<Figure size 432x288 with 1 Axes>"
      ]
     },
     "metadata": {
      "needs_background": "light"
     },
     "output_type": "display_data"
    }
   ],
   "source": [
    "plt.plot(energy_plot)\n",
    "plt.show()"
   ]
  },
  {
   "cell_type": "code",
   "execution_count": 241,
   "metadata": {},
   "outputs": [
    {
     "name": "stdout",
     "output_type": "stream",
     "text": [
      "tested sample 300 of 300\n",
      "\n",
      "0.87\n"
     ]
    }
   ],
   "source": [
    "#Test Accuracy\n",
    "score = 0\n",
    "samples = 300\n",
    "for test in range(samples):\n",
    "    energy_plot = []\n",
    "    rnd = np.random.randint(1497, 1797)\n",
    "    rnd = test + 1497\n",
    "    x = inputs[rnd]\n",
    "    t = create_target(targets[rnd])\n",
    "    h = np.random.uniform(-1, 1, n_h)\n",
    "    y = np.random.uniform(-1, 1, n_y)\n",
    "    \n",
    "    #energy = 0.5 * (np.sum(x**2) + np.sum(h**2) + np.sum(y**2))\n",
    "    \n",
    "    #Free Phase\n",
    "    for itr in range(100):\n",
    "        dh = d_hsig(h) * (np.dot(x, W1) + np.dot(y, W2.T) + bh) - h\n",
    "        dy = d_hsig(y) * (np.dot(h, W2) + by) - y\n",
    "        \n",
    "        h = hsig(h + epsilon * dh)\n",
    "        y = hsig(y + epsilon * dy)\n",
    "        \n",
    "        energy = 0.5 * (np.sum(x**2) + np.sum(h**2) + np.sum(y**2))\n",
    "        \n",
    "        w1_mat = W1 * np.outer(hsig(x),hsig(h))\n",
    "        np.fill_diagonal(w1_mat,0)\n",
    "        energy -= 0.5 * np.sum(w1_mat)\n",
    "        \n",
    "        w2_mat = W2 * np.outer(hsig(h),hsig(y))\n",
    "        np.fill_diagonal(w2_mat,0)\n",
    "        energy -= 0.5 * np.sum(w2_mat)\n",
    "\n",
    "        energy -= 0.5 * np.sum(bh * hsig(h))\n",
    "        energy -= 0.5 * np.sum(by * hsig(y))\n",
    "        energy += np.sum((t - y_free)**2)\n",
    "        energy_plot.append(energy)\n",
    "        \n",
    "    h_free = np.copy(h)\n",
    "    y_free = np.copy(y)\n",
    "    \n",
    "    if np.argmax(y_free) == targets[rnd]:\n",
    "        score += 1\n",
    "    \n",
    "    print('tested sample ' + str(test+1) + ' of '+str(samples), end = \"\\r\")\n",
    "\n",
    "print('\\n')\n",
    "print(score/samples)"
   ]
  },
  {
   "cell_type": "code",
   "execution_count": 242,
   "metadata": {},
   "outputs": [
    {
     "data": {
      "image/png": "[encoded data removed]",
      "text/plain": [
       "<Figure size 432x288 with 1 Axes>"
      ]
     },
     "metadata": {
      "needs_background": "light"
     },
     "output_type": "display_data"
    }
   ],
   "source": [
    "plt.plot(energy_plot)\n",
    "plt.show()"
   ]
  },
  {
   "cell_type": "code",
   "execution_count": 24,
   "metadata": {},
   "outputs": [
    {
     "name": "stdout",
     "output_type": "stream",
     "text": [
      "[[ 2.12778461e-02 -7.96877415e-03  2.55634200e-02 ...  1.43979904e-02\n",
      "   4.48452780e-02  2.99460474e-02]\n",
      " [ 1.28457663e-03  4.08286115e-02  1.68978761e-02 ...  1.25543463e-02\n",
      "   4.20629966e-02 -7.49259844e-03]\n",
      " [ 1.07820521e-02  3.29156993e-02  3.21084334e-02 ...  1.53257483e-02\n",
      "  -3.37177264e-04  2.65173769e-02]\n",
      " ...\n",
      " [ 7.89182584e-03  6.56884724e-04  7.74170481e-02 ... -6.99130846e-05\n",
      "   3.47362730e-02 -1.89836708e-02]\n",
      " [ 2.88802880e-03  1.37388219e-02  6.51104752e-02 ... -6.50030592e-03\n",
      "   5.28052016e-02  2.50678741e-03]\n",
      " [ 3.33202712e-02 -9.30478779e-03  1.47214853e-02 ...  5.60654076e-03\n",
      "   1.39632788e-02  1.62804513e-02]]\n",
      "(64, 50)\n"
     ]
    }
   ],
   "source": [
    "print(W1)\n",
    "print(W1.shape)"
   ]
  },
  {
   "cell_type": "code",
   "execution_count": 19,
   "metadata": {},
   "outputs": [
    {
     "name": "stdout",
     "output_type": "stream",
     "text": [
      "0.138310378194868\n"
     ]
    }
   ],
   "source": [
    "print(np.max(W1))"
   ]
  },
  {
   "cell_type": "code",
   "execution_count": 20,
   "metadata": {},
   "outputs": [
    {
     "name": "stdout",
     "output_type": "stream",
     "text": [
      "-0.06975242151465096\n"
     ]
    }
   ],
   "source": [
    "print(np.min(W1))"
   ]
  },
  {
   "cell_type": "code",
   "execution_count": 25,
   "metadata": {},
   "outputs": [
    {
     "name": "stdout",
     "output_type": "stream",
     "text": [
      "[[-4.49563915e-02  3.46079886e-02 -1.58287574e-02  6.56887338e-02\n",
      "   1.71613387e-02  1.16051095e-02 -4.89696705e-02 -1.29790210e-02\n",
      "   2.55555570e-02 -4.63367443e-02]\n",
      " [ 3.80134948e-02 -1.14539817e-01 -2.94069451e-02 -4.99862516e-03\n",
      "  -5.62762285e-05 -2.53214435e-02  1.83323301e-02  6.87303098e-02\n",
      "   1.45935154e-02  2.62324669e-02]\n",
      " [-1.69414688e-03  3.81477577e-02  9.45353929e-02  2.08373750e-02\n",
      "   7.38676376e-02 -5.11676864e-02  4.03174072e-02 -5.67659985e-02\n",
      "  -1.51900741e-02  3.00757747e-02]\n",
      " [-9.86764911e-03  8.91168118e-03  3.16358076e-02 -1.73876369e-02\n",
      "   2.84838538e-02 -8.46844364e-02 -2.09619955e-02 -5.97433321e-02\n",
      "   1.71343570e-02 -1.33609716e-02]\n",
      " [ 7.48426667e-02 -6.95796407e-03 -4.72176025e-02 -5.16048609e-02\n",
      "  -3.71490767e-02  5.61286450e-02  6.79278455e-02 -1.59360776e-02\n",
      "   4.37625924e-02 -4.39607543e-03]\n",
      " [ 4.22402516e-02 -3.22041127e-03  2.50110195e-02 -6.58550173e-03\n",
      "   8.30351163e-03  3.39553137e-03 -1.03002488e-01  7.87346743e-03\n",
      "   8.83696999e-02 -4.90633035e-02]\n",
      " [ 5.00226904e-02 -9.34626998e-02  1.68391394e-02  4.02267355e-02\n",
      "  -5.10409052e-02  5.01886518e-02 -6.12812446e-02  2.11146842e-02\n",
      "  -1.77691343e-03 -4.27780226e-02]\n",
      " [-1.05836698e-01  5.10296613e-02 -2.50428490e-02 -4.78875359e-02\n",
      "  -1.98211222e-02 -1.40203769e-03  2.57952194e-02  2.46919167e-02\n",
      "   4.02580782e-02 -2.14980185e-02]\n",
      " [-4.01926697e-02  5.33911495e-02  6.50506214e-03 -1.85680935e-02\n",
      "   8.10011175e-02  3.47105567e-02 -8.33913574e-02 -5.38602880e-02\n",
      "  -5.46495205e-02  3.52499169e-02]\n",
      " [ 2.73559040e-02 -2.65555515e-02 -1.34348750e-02 -3.59820861e-02\n",
      "   4.76113637e-02  4.27242202e-02  6.73429208e-02  4.75613175e-02\n",
      "   4.66891169e-02 -5.74773744e-02]\n",
      " [ 1.00554779e-02 -3.44296289e-02 -6.49258571e-02  6.14343744e-03\n",
      "   3.52348577e-02  7.64418060e-02 -5.89728322e-03  9.47369732e-02\n",
      "  -7.32900621e-02 -4.83297422e-03]\n",
      " [-8.14183796e-02  1.60311191e-02  1.06340113e-03  5.17604904e-02\n",
      "  -7.00380181e-02  1.06983456e-01 -4.42934801e-02 -1.16390569e-02\n",
      "  -2.11207886e-02 -2.94402704e-02]\n",
      " [-6.21901124e-02  2.59633476e-02  6.69948318e-02 -8.72883066e-02\n",
      "   3.76961475e-02  1.28749858e-02 -2.29585567e-02  5.64831958e-02\n",
      "   8.47344585e-04  7.92493435e-02]\n",
      " [-5.22548949e-02 -5.79721741e-02 -1.38786087e-03 -3.31916505e-02\n",
      "   4.50211687e-02  5.82834172e-02 -2.22400059e-02  7.73392853e-02\n",
      "  -1.40015395e-02 -3.84856582e-02]\n",
      " [-6.88311322e-02  8.44964850e-03 -6.70981524e-03  5.94365610e-02\n",
      "   3.09605650e-02 -1.77695265e-02  6.10298126e-02  2.82089474e-02\n",
      "   5.80800843e-02 -3.41954218e-02]\n",
      " [-7.44474749e-02  6.35634069e-02 -9.05283723e-02  1.03483156e-01\n",
      "  -5.14537915e-03 -5.93317482e-02  1.21332347e-02  3.67429463e-02\n",
      "   3.12357194e-02  4.33957565e-02]\n",
      " [-6.46931645e-02 -6.72552590e-02 -3.76916978e-02  9.93097210e-02\n",
      "  -1.10456721e-02  3.29845009e-02  9.24911282e-03  6.80203468e-02\n",
      "  -2.08247458e-03  5.00808475e-02]\n",
      " [-4.00432427e-02 -2.96247154e-02 -6.36574296e-02  1.07818715e-01\n",
      "  -8.91740766e-03  3.44158111e-02  5.57048341e-03 -3.92732268e-02\n",
      "  -7.82050464e-03 -3.20642345e-02]\n",
      " [-4.98002157e-02 -4.05268115e-02  1.56428527e-02  1.15669590e-01\n",
      "  -2.13623818e-02 -2.37341537e-02  5.43052699e-02  7.43359418e-02\n",
      "  -9.73785382e-02 -3.83989321e-02]\n",
      " [ 1.01687545e-02 -4.28988264e-02 -3.00093597e-02  1.38132382e-03\n",
      "   2.85149232e-02  6.74467684e-03 -9.67617054e-03 -6.18476773e-02\n",
      "   2.07164203e-02  3.61482743e-02]\n",
      " [ 2.72153968e-03  7.11254416e-02  1.93635424e-03  6.77606956e-03\n",
      "   6.58094205e-02 -2.36081673e-02 -5.62983582e-02 -2.66675845e-02\n",
      "   3.05547006e-02 -4.59795140e-02]\n",
      " [ 8.08498773e-02  2.46675392e-02  1.27118132e-02  5.20812262e-02\n",
      "  -5.95147057e-02 -5.63406376e-02 -4.05851785e-02 -6.01782396e-02\n",
      "  -5.60379705e-02  6.14118310e-02]\n",
      " [-2.10271839e-02  5.37148740e-02 -1.55685067e-02 -8.75887778e-02\n",
      "  -1.30066092e-02 -7.68345230e-02 -4.37954525e-02 -8.47898343e-03\n",
      "   1.00595980e-01  7.13306620e-02]\n",
      " [-5.44511758e-02  1.00208771e-01 -5.61977816e-02 -6.43140652e-02\n",
      "  -1.27938473e-02  8.95709709e-02  2.59223858e-02 -4.95675952e-02\n",
      "  -2.19897718e-02  5.63787467e-02]\n",
      " [-4.74031710e-03  4.29663766e-02 -8.17227549e-03  3.09969313e-02\n",
      "   6.96029164e-02  1.33289643e-02  5.55126094e-02 -7.95661815e-02\n",
      "   2.85315298e-02  1.24114057e-02]\n",
      " [ 1.05570093e-02 -3.13110482e-02 -4.49416696e-03  1.54097385e-02\n",
      "   3.61475305e-02 -5.41127137e-02 -5.61354226e-02  6.97417045e-02\n",
      "  -2.29347926e-02 -1.55834840e-03]\n",
      " [ 7.28425690e-02  3.16272509e-02 -1.11411479e-01 -1.43070676e-02\n",
      "   3.82660849e-02 -6.71994043e-02 -6.93733510e-03 -1.13300666e-02\n",
      "   1.38428285e-02 -2.77040066e-02]\n",
      " [ 5.83371011e-02 -4.50427606e-02  2.71294020e-02 -1.77815024e-02\n",
      "  -8.36613994e-03  2.45208881e-02 -1.10381613e-01 -4.07672455e-02\n",
      "  -4.07681970e-02  7.15461614e-02]\n",
      " [ 8.17995444e-02  6.80674071e-02  1.88503106e-04  5.11739130e-02\n",
      "   4.54099083e-02  1.55044750e-02 -7.61099808e-02  1.51565967e-02\n",
      "  -5.03008250e-02 -8.52389102e-02]\n",
      " [ 7.21228346e-02 -3.00913834e-02  9.62047001e-02 -7.16729075e-03\n",
      "  -3.43233164e-02 -4.09867975e-02  3.85195051e-03 -1.16832754e-02\n",
      "  -4.44779948e-02 -1.86715085e-03]\n",
      " [-2.67174132e-02  1.23358205e-02 -2.51285686e-02 -1.54481358e-02\n",
      "   1.28276324e-02  5.24343365e-02  3.77848199e-03 -3.77919207e-02\n",
      "  -8.72981170e-02  1.16022583e-02]\n",
      " [ 6.74999358e-02  5.61802045e-02 -1.63947086e-03 -2.99287425e-02\n",
      "  -7.66989734e-02 -2.67385169e-02 -3.24235931e-02  6.19936548e-02\n",
      "   4.11540038e-02 -8.23292712e-02]\n",
      " [-3.77008244e-02 -6.01133855e-02  8.10406785e-03 -1.61503729e-02\n",
      "  -4.11142975e-02 -4.39931440e-03  8.43553416e-02  7.17183445e-03\n",
      "   6.01905957e-02 -3.05862624e-03]\n",
      " [ 2.31339818e-02 -2.79565227e-02  9.52627463e-02  5.61180327e-02\n",
      "   9.58705527e-03  4.44701255e-02  6.62077056e-02 -7.08048107e-02\n",
      "  -2.95530347e-02 -7.94133670e-02]\n",
      " [ 6.34518505e-02 -7.16094224e-02 -7.94730028e-02 -4.07963182e-02\n",
      "  -6.19602921e-02 -1.53631128e-02  1.93433524e-02 -1.68952455e-02\n",
      "   7.05641270e-02  1.13755825e-01]\n",
      " [ 1.61490210e-02 -6.77724746e-03  5.24360858e-02 -5.93423191e-03\n",
      "  -5.83835031e-02  8.64854822e-02 -2.88169068e-02  7.78184085e-02\n",
      "  -9.26792887e-03  2.01861015e-02]\n",
      " [ 7.28104771e-02  3.73402635e-02 -6.47290088e-02 -4.22167443e-02\n",
      "  -2.81900972e-02  1.32862872e-01  1.50841049e-02 -2.72385663e-02\n",
      "   2.69089265e-02  4.02896836e-02]\n",
      " [ 4.92452246e-02  3.66753011e-02  5.15046451e-02  3.01527246e-02\n",
      "  -4.06459359e-02 -1.06261179e-01  4.49748169e-02 -1.87605869e-02\n",
      "  -4.65968768e-02  5.30978562e-02]\n",
      " [ 3.99868452e-03  4.16140077e-02  8.52838671e-02 -5.19495579e-02\n",
      "  -8.21394291e-02 -4.19330174e-02  2.04477739e-03 -1.00587567e-02\n",
      "  -8.60435724e-03 -9.10636429e-02]\n",
      " [ 4.19271292e-02 -1.41617511e-02 -1.41258706e-02 -4.58166877e-03\n",
      "   1.00156137e-01 -5.09562026e-02 -1.23682430e-02  2.75111998e-02\n",
      "  -6.33810375e-02  1.85037564e-02]\n",
      " [-5.60236704e-02  3.41854534e-02  8.51848590e-02 -6.38988662e-02\n",
      "   5.29024397e-03 -9.37169960e-02 -4.05530943e-02  1.83448219e-02\n",
      "   5.45785954e-02  4.08986783e-03]\n",
      " [ 2.91285757e-02 -1.37320763e-02  7.23229243e-02  2.89085403e-02\n",
      "  -4.05116700e-02 -2.06810793e-02  2.12465023e-02 -1.12152479e-02\n",
      "   2.01514242e-02 -3.85872927e-02]\n",
      " [ 8.68437360e-03 -2.54597126e-02 -1.22576030e-03  6.10864873e-02\n",
      "  -6.98852273e-03  4.32719129e-02 -1.47237358e-03 -1.01645761e-01\n",
      "   2.62062134e-02 -1.38346292e-04]\n",
      " [-7.76125553e-02  1.60764344e-02  5.32334046e-02 -4.56237515e-02\n",
      "  -5.23784519e-02  9.53286641e-03  2.25604653e-02 -2.48269111e-02\n",
      "   6.26347938e-02  4.68353536e-02]\n",
      " [-4.50478401e-02 -3.93797808e-03 -3.17954435e-02 -1.02239081e-02\n",
      "  -4.40310838e-02  4.28605362e-02  6.37365424e-02  1.88342417e-02\n",
      "  -4.69810863e-02 -3.85386919e-02]\n",
      " [ 5.17903858e-02  1.03787484e-02  8.02974301e-02 -4.15892376e-02\n",
      "   4.26239327e-02  5.40235248e-02 -5.45126609e-02 -2.46287701e-02\n",
      "  -3.74603109e-02  2.59396289e-04]\n",
      " [-4.16880544e-02 -5.99169493e-02 -6.28560907e-02 -4.88499836e-02\n",
      "   6.64196252e-03  4.33375667e-02  1.08597619e-01 -7.97707364e-02\n",
      "   1.92373509e-02 -8.91119309e-02]\n",
      " [-4.10373870e-02  2.20014962e-03 -4.02115838e-02  5.36794871e-02\n",
      "  -1.29565478e-02  1.70807244e-02 -6.46744568e-02 -7.49356032e-02\n",
      "   9.41158834e-02  5.93216472e-02]\n",
      " [-5.96145232e-03 -8.80685239e-03  1.33651272e-02 -3.53664088e-03\n",
      "  -1.02363976e-01 -5.62776481e-02  5.66405470e-02  3.25972195e-02\n",
      "   7.21412789e-02  3.15259932e-02]\n",
      " [-1.35995073e-02 -5.71714702e-02 -4.53578861e-02 -3.89076924e-02\n",
      "   8.81229971e-02 -6.63034211e-02  5.07674875e-02  8.73363615e-02\n",
      "  -2.86318305e-02  1.32250505e-02]]\n",
      "(50, 10)\n"
     ]
    }
   ],
   "source": [
    "print(W2)\n",
    "print(W2.shape)"
   ]
  },
  {
   "cell_type": "code",
   "execution_count": 22,
   "metadata": {},
   "outputs": [
    {
     "name": "stdout",
     "output_type": "stream",
     "text": [
      "0.1328628719874892\n"
     ]
    }
   ],
   "source": [
    "print(np.max(W2))"
   ]
  },
  {
   "cell_type": "code",
   "execution_count": 23,
   "metadata": {},
   "outputs": [
    {
     "name": "stdout",
     "output_type": "stream",
     "text": [
      "-0.11453981708799395\n"
     ]
    }
   ],
   "source": [
    "print(np.min(W2))"
   ]
  },
  {
   "cell_type": "code",
   "execution_count": 28,
   "metadata": {},
   "outputs": [
    {
     "name": "stdout",
     "output_type": "stream",
     "text": [
      "(50,)\n",
      "0.053006101105460106\n",
      "0.0022467346772342502\n"
     ]
    }
   ],
   "source": [
    "print(bh.shape)\n",
    "print(np.max(bh))\n",
    "print(np.min(bh))"
   ]
  },
  {
   "cell_type": "code",
   "execution_count": 29,
   "metadata": {},
   "outputs": [
    {
     "name": "stdout",
     "output_type": "stream",
     "text": [
      "(10,)\n",
      "0.07605909151318212\n",
      "0.014803063579171525\n"
     ]
    }
   ],
   "source": [
    "print(by.shape)\n",
    "print(np.max(by))\n",
    "print(np.min(by))"
   ]
  },
  {
   "cell_type": "code",
   "execution_count": 22,
   "metadata": {},
   "outputs": [],
   "source": [
    "###\n",
    "### Initialized Equilibrium Propagation Training\n",
    "###"
   ]
  },
  {
   "cell_type": "code",
   "execution_count": 23,
   "metadata": {},
   "outputs": [],
   "source": [
    "#One-hot encoding\n",
    "def create_target(t):\n",
    "        target_vector = np.zeros(10)\n",
    "        for i in range(10):\n",
    "            if i == t:\n",
    "                target_vector[i] = 1\n",
    "        return target_vector\n",
    "\n",
    "#Hard sigmoid [-1, 1]\n",
    "def hsig(x):\n",
    "    z = np.clip(x, -1, 1)\n",
    "    return np.copy(z)\n",
    "\n",
    "def d_hsig(x):\n",
    "    z = (x > -1) & (x < 1)\n",
    "    return np.copy(z)\n",
    "\n",
    "def sigmoid(x):\n",
    "    return 1 / (1 + np.exp(-x))"
   ]
  },
  {
   "cell_type": "code",
   "execution_count": 24,
   "metadata": {},
   "outputs": [],
   "source": [
    "#Load mini MNIST data\n",
    "digits = datasets.load_digits()\n",
    "data = digits.data\n",
    "targets = digits.target\n",
    "\n",
    "#Standardize data\n",
    "inputs = data - np.mean(data)\n",
    "inputs = inputs/(np.std(data))"
   ]
  },
  {
   "cell_type": "code",
   "execution_count": 28,
   "metadata": {
    "scrolled": true
   },
   "outputs": [
    {
     "name": "stdout",
     "output_type": "stream",
     "text": [
      "11.839016572420196\n",
      "1.4425074114205108\n",
      "0.7646547336423722\n",
      "0.7159604486058707\n",
      "0.3235065516315935\n",
      "0.5640865389161778\n",
      "0.480038642528464\n",
      "0.43037020968875445\n",
      "0.2781046014783083\n",
      "0.17401820172990254\n",
      "0.5103538035057538\n",
      "0.1343947660401369\n",
      "0.22376643358811565\n",
      "0.23039483190418134\n",
      "0.4533953807977342\n",
      "0.11758882657978\n",
      "0.22414540589515763\n",
      "0.0986077935893622\n",
      "0.14669706355806084\n",
      "0.4157534604136547\n",
      "0.2632070780579873\n",
      "0.11920977003787715\n",
      "0.10108868474128871\n",
      "0.35960879383338845\n",
      "0.1520616206900028\n",
      "0.2533410712653201\n",
      "0.04957686159957233\n",
      "0.3381873511633017\n",
      "0.11925703235030581\n",
      "0.2830992596485435\n",
      "0.9272507409104406\n",
      "0.1614375741431236\n",
      "0.26163262069671545\n",
      "0.06645554343962795\n",
      "0.015504588985848054\n",
      "0.4540882994906393\n",
      "0.9595722612810677\n",
      "0.23887991334014538\n",
      "0.1339376541976654\n",
      "0.07653291514698461\n",
      "0.10582812617948581\n",
      "0.5185766890669639\n",
      "0.2654602236710985\n",
      "0.09703851230332095\n",
      "0.39632400423231046\n",
      "0.056534921997456425\n",
      "0.5170865535349647\n",
      "0.17731114823378843\n",
      "0.17252919670262687\n",
      "0.055788909889932375\n"
     ]
    }
   ],
   "source": [
    "#Define network hyperparameters\n",
    "n_x = 64\n",
    "n_h = 50\n",
    "n_y = 10\n",
    "\n",
    "alpha1 = 0.01\n",
    "alpha2 = 0.005\n",
    "beta = 1\n",
    "epsilon = 0.1\n",
    "\n",
    "epochs = 50\n",
    "\n",
    "x_plot = []\n",
    "h_plot = []\n",
    "y_plot = []\n",
    "w1_plot = []\n",
    "w2_plot = []\n",
    "energy_plot = []\n",
    "first_term_plot = []\n",
    "second_term_plot = []\n",
    "third_term_plot = []\n",
    "\n",
    "#Weight intialization\n",
    "#W1 = np.random.uniform(0, (4/(n_x + n_y)), (n_x, n_h))\n",
    "#W2 = np.random.uniform(0, (4/(n_h)), (n_h, n_y))\n",
    "\n",
    "#Bias initialization\n",
    "#bh = np.random.uniform(0, 4/(n_x + n_y), n_h)\n",
    "#by = np.random.uniform(0, 4/(n_h), n_y)\n",
    "\n",
    "W1 = np.load('w1.npy')/10\n",
    "W2 = np.load('w2.npy')/10\n",
    "bh = np.load('bh.npy')\n",
    "by = np.load('by.npy')\n",
    "\n",
    "#W1 = W1/(250*np.max(W1))\n",
    "#W2 = W2/(250*np.max(W2))\n",
    "#bh = bh/(250*np.max(bh))\n",
    "#by = by/(250*np.max(by))\n",
    "\n",
    "for ex in range(epochs*100):\n",
    "    \n",
    "    #Randomly sample from data\n",
    "    rnd = np.random.randint(0, 1497)\n",
    "    x = inputs[rnd]# + 0.1 * np.random.rand(64)\n",
    "    t = create_target(targets[rnd])\n",
    "    \n",
    "    #Random activation initialization\n",
    "    h = np.random.uniform(-1, 1, n_h)\n",
    "    y = np.random.uniform(-1, 1, n_y)\n",
    "    \n",
    "    #Free Phase\n",
    "    for itr in range(100):\n",
    "        #Calculate free gradient steps\n",
    "        dh = d_hsig(h) * (np.dot(x, W1) + np.dot(y, W2.T) + bh) - h\n",
    "        dy = d_hsig(y) * (np.dot(h, W2) + by) - y\n",
    "        \n",
    "        #Update activations\n",
    "        h = hsig(h + epsilon * dh)\n",
    "        y = hsig(y + epsilon * dy)\n",
    "        \n",
    "    #Store free equilibrium states\n",
    "    h_free = np.copy(h)\n",
    "    y_free = np.copy(y)\n",
    "    \n",
    "    #Weakly Clamped Phase\n",
    "    for itr in range(20):\n",
    "        #Calculate weakly clamped gradient steps\n",
    "        dy = d_hsig(y) * (np.dot(h, W2) + by) - y + beta * (t - y)\n",
    "        dh = d_hsig(h) * (np.dot(x, W1) + np.dot(y, W2.T) + bh) - h\n",
    "        \n",
    "        #Update activations\n",
    "        h = hsig(h + epsilon * dh)\n",
    "        y = hsig(y + epsilon * dy)\n",
    "        \n",
    "    #Store weakly clamped activations\n",
    "    h_clamped = np.copy(h)\n",
    "    y_clamped = np.copy(y)\n",
    "    \n",
    "    x_plot.append(np.mean(x))\n",
    "    h_plot.append(np.mean(h))\n",
    "    y_plot.append(np.mean(y))\n",
    "    \n",
    "    #Update weights\n",
    "    W1 += alpha1 * (1/beta) * (np.outer(x, h_clamped) - np.outer(x, h_free))\n",
    "    W2 += alpha2 * (1/beta) * (np.outer(h_clamped, y_clamped) - np.outer(h_free, y_free))\n",
    "    \n",
    "    w1_plot.append(np.sum(W1))\n",
    "    w2_plot.append(np.sum(W2))\n",
    "    \n",
    "    #Print Mean Squared Error\n",
    "    if ex % 100 == 0:\n",
    "        print(np.dot(t - y_free, t - y_free))\n",
    "        \n",
    "        energy = epsilon * 0.5 * (np.sum(x**2) + np.sum(h**2) + np.sum(y**2))\n",
    "        \n",
    "        w1_mat = W1 * np.outer(hsig(x),hsig(h))\n",
    "        np.fill_diagonal(w1_mat,0)\n",
    "        energy -= 0.5 * np.sum(w1_mat)\n",
    "        \n",
    "        w2_mat = W2 * np.outer(hsig(h),hsig(y))\n",
    "        np.fill_diagonal(w2_mat,0)\n",
    "        energy -= 0.5 * np.sum(w2_mat)\n",
    "\n",
    "        energy -= 0.5 * np.sum(bh * hsig(h))\n",
    "        energy -= 0.5 * np.sum(by * hsig(y))\n",
    "        energy += np.sum((t - y_free)**2)\n",
    "        energy_plot.append(energy)\n",
    "        \n",
    "    #Learning rate schedule\n",
    "    if ex % 2500 == 2499:\n",
    "        alpha1 /= 10\n",
    "        alpha2 /= 10"
   ]
  },
  {
   "cell_type": "code",
   "execution_count": 29,
   "metadata": {},
   "outputs": [
    {
     "name": "stdout",
     "output_type": "stream",
     "text": [
      "tested sample 300 of 300\n",
      "\n",
      "0.91\n"
     ]
    }
   ],
   "source": [
    "#Test Accuracy\n",
    "score = 0\n",
    "samples = 300\n",
    "for test in range(samples):\n",
    "    energy_plot = []\n",
    "    h_plot = []\n",
    "    y_plot = []\n",
    "    rnd = np.random.randint(1497, 1797)\n",
    "    rnd = test + 1497\n",
    "    x = inputs[rnd]\n",
    "    t = create_target(targets[rnd])\n",
    "    h = np.random.uniform(-1, 1, n_h)\n",
    "    y = np.random.uniform(-1, 1, n_y)\n",
    "    \n",
    "    #energy = 0.5 * (np.sum(x**2) + np.sum(h**2) + np.sum(y**2))\n",
    "    \n",
    "    #Free Phase\n",
    "    for itr in range(100):\n",
    "        dh = d_hsig(h) * (np.dot(x, W1) + np.dot(y, W2.T) + bh) - h\n",
    "        dy = d_hsig(y) * (np.dot(h, W2) + by) - y\n",
    "        \n",
    "        h = hsig(h + epsilon * dh)\n",
    "        y = hsig(y + epsilon * dy)\n",
    "        \n",
    "        energy = 0.5 * (np.sum(x**2) + np.sum(h**2) + np.sum(y**2))\n",
    "        \n",
    "        w1_mat = W1 * np.outer(hsig(x),hsig(h))\n",
    "        np.fill_diagonal(w1_mat,0)\n",
    "        energy -= 0.5 * np.sum(w1_mat)\n",
    "        \n",
    "        w2_mat = W2 * np.outer(hsig(h),hsig(y))\n",
    "        np.fill_diagonal(w2_mat,0)\n",
    "        energy -= 0.5 * np.sum(w2_mat)\n",
    "\n",
    "        energy -= 0.5 * np.sum(bh * hsig(h))\n",
    "        energy -= 0.5 * np.sum(by * hsig(y))\n",
    "        energy += np.sum((t - y_free)**2)\n",
    "        energy_plot.append(energy)\n",
    "        h_plot.append(np.mean(h))\n",
    "        y_plot.append(np.mean(y))\n",
    "        \n",
    "    h_free = np.copy(h)\n",
    "    y_free = np.copy(y)\n",
    "    \n",
    "    if np.argmax(y_free) == targets[rnd]:\n",
    "        score += 1\n",
    "    \n",
    "    print('tested sample ' + str(test+1) + ' of '+str(samples), end = \"\\r\")\n",
    "\n",
    "print('\\n')\n",
    "print(score/samples)"
   ]
  },
  {
   "cell_type": "code",
   "execution_count": 30,
   "metadata": {},
   "outputs": [
    {
     "data": {
      "image/png": "[encoded data removed]",
      "text/plain": [
       "<Figure size 432x288 with 1 Axes>"
      ]
     },
     "metadata": {
      "needs_background": "light"
     },
     "output_type": "display_data"
    },
    {
     "data": {
      "image/png": "[encoded data removed]",
      "text/plain": [
       "<Figure size 432x288 with 1 Axes>"
      ]
     },
     "metadata": {
      "needs_background": "light"
     },
     "output_type": "display_data"
    },
    {
     "data": {
      "image/png": "[encoded data removed]",
      "text/plain": [
       "<Figure size 432x288 with 1 Axes>"
      ]
     },
     "metadata": {
      "needs_background": "light"
     },
     "output_type": "display_data"
    }
   ],
   "source": [
    "plt.plot(energy_plot)\n",
    "plt.show()\n",
    "plt.plot(h_plot)\n",
    "plt.show()\n",
    "plt.plot(y_plot)\n",
    "plt.show()"
   ]
  },
  {
   "cell_type": "code",
   "execution_count": 2,
   "metadata": {},
   "outputs": [],
   "source": [
    "###\n",
    "### Weight Transfer\n",
    "###"
   ]
  },
  {
   "cell_type": "code",
   "execution_count": 7,
   "metadata": {},
   "outputs": [],
   "source": [
    "#One-hot encoding\n",
    "def create_target(t):\n",
    "        target_vector = np.zeros(10)\n",
    "        for i in range(10):\n",
    "            if i == t:\n",
    "                target_vector[i] = 1\n",
    "        return target_vector\n",
    "\n",
    "#Hard sigmoid [-1, 1]\n",
    "def hsig(x):\n",
    "    z = np.clip(x, -1, 1)\n",
    "    return np.copy(z)\n",
    "\n",
    "def d_hsig(x):\n",
    "    z = (x > -1) & (x < 1)\n",
    "    return np.copy(z)\n",
    "\n",
    "def sigmoid(x):\n",
    "    return 1 / (1 + np.exp(-x))"
   ]
  },
  {
   "cell_type": "code",
   "execution_count": 8,
   "metadata": {},
   "outputs": [],
   "source": [
    "#Load mini MNIST data\n",
    "digits = datasets.load_digits()\n",
    "data = digits.data\n",
    "targets = digits.target\n",
    "\n",
    "#Standardize data\n",
    "inputs = data - np.mean(data)\n",
    "inputs = inputs/(np.std(data))"
   ]
  },
  {
   "cell_type": "code",
   "execution_count": 9,
   "metadata": {},
   "outputs": [],
   "source": [
    "W1 = np.load('w1.npy')\n",
    "W2 = np.load('w2.npy')\n",
    "bh = np.load('bh.npy')\n",
    "by = np.load('by.npy')\n",
    "\n",
    "#W1 = W1/(250*np.max(W1))\n",
    "#W2 = W2/(250*np.max(W2))\n",
    "#bh = bh/(250*np.max(bh))\n",
    "#by = by/(250*np.max(by))\n",
    "#bh = bh * 0\n",
    "#by = by * 0"
   ]
  },
  {
   "cell_type": "code",
   "execution_count": 10,
   "metadata": {},
   "outputs": [
    {
     "name": "stdout",
     "output_type": "stream",
     "text": [
      "1.7599714\n",
      "1.9858465\n",
      "0.33604896\n",
      "-0.89557695\n"
     ]
    }
   ],
   "source": [
    "print(np.max(W1))\n",
    "print(np.max(W2))\n",
    "print(np.max(bh))\n",
    "print(np.max(by))"
   ]
  },
  {
   "cell_type": "code",
   "execution_count": 15,
   "metadata": {},
   "outputs": [
    {
     "name": "stdout",
     "output_type": "stream",
     "text": [
      "8.620000000000001\n"
     ]
    }
   ],
   "source": [
    "#Define network hyperparameters\n",
    "n_x = 64\n",
    "n_h = 50\n",
    "n_y = 10\n",
    "\n",
    "alpha1 = 0.01\n",
    "alpha2 = 0.005\n",
    "beta = 1\n",
    "epsilon = 0.1\n",
    "\n",
    "epochs = 0.1\n",
    "\n",
    "x_plot = []\n",
    "h_plot = []\n",
    "y_plot = []\n",
    "w1_plot = []\n",
    "w2_plot = []\n",
    "energy_plot = []\n",
    "first_term_plot = []\n",
    "second_term_plot = []\n",
    "third_term_plot = []\n",
    "\n",
    "#Weight intialization\n",
    "#W1 = np.random.uniform(0, (4/(n_x + n_y)), (n_x, n_h))\n",
    "#W2 = np.random.uniform(0, (4/(n_h)), (n_h, n_y))\n",
    "\n",
    "#Bias initialization\n",
    "#bh = np.random.uniform(0, 4/(n_x + n_y), n_h)\n",
    "#by = np.random.uniform(0, 4/(n_h), n_y)\n",
    "\n",
    "#W1 = np.load('w1.npy')\n",
    "#W2 = np.load('w2.npy')\n",
    "#bh = np.load('bh.npy')\n",
    "#by = np.load('by.npy')\n",
    "\n",
    "#W1 = W1/(250*np.max(W1))\n",
    "#W2 = W2/(250*np.max(W2))\n",
    "#bh = bh/(250*np.max(bh))\n",
    "#by = by/(250*np.max(by))\n",
    "\n",
    "for ex in range(int(epochs*100)):\n",
    "    \n",
    "    #Randomly sample from data\n",
    "    rnd = np.random.randint(0, 1497)\n",
    "    x = inputs[rnd]# + 0.1 * np.random.rand(64)\n",
    "    t = create_target(targets[rnd])\n",
    "    \n",
    "    #Random activation initialization\n",
    "    h = np.random.uniform(-1, 1, n_h)\n",
    "    y = np.random.uniform(-1, 1, n_y)\n",
    "    \n",
    "    #Free Phase\n",
    "    for itr in range(100):\n",
    "        #Calculate free gradient steps\n",
    "        dh = d_hsig(h) * (np.dot(x, W1) + np.dot(y, W2.T) + bh) - h\n",
    "        dy = d_hsig(y) * (np.dot(h, W2) + by) - y\n",
    "        \n",
    "        #Update activations\n",
    "        h = hsig(h + epsilon * dh)\n",
    "        y = hsig(y + epsilon * dy)\n",
    "        \n",
    "    #Store free equilibrium states\n",
    "    h_free = np.copy(h)\n",
    "    y_free = np.copy(y)\n",
    "    \n",
    "    #Weakly Clamped Phase\n",
    "    for itr in range(20):\n",
    "        #Calculate weakly clamped gradient steps\n",
    "        dy = d_hsig(y) * (np.dot(h, W2) + by) - y + beta * (t - y)\n",
    "        dh = d_hsig(h) * (np.dot(x, W1) + np.dot(y, W2.T) + bh) - h\n",
    "        \n",
    "        #Update activations\n",
    "        h = hsig(h + epsilon * dh)\n",
    "        y = hsig(y + epsilon * dy)\n",
    "        \n",
    "    #Store weakly clamped activations\n",
    "    h_clamped = np.copy(h)\n",
    "    y_clamped = np.copy(y)\n",
    "    \n",
    "    x_plot.append(np.mean(x))\n",
    "    h_plot.append(np.mean(h))\n",
    "    y_plot.append(np.mean(y))\n",
    "    \n",
    "    #Update weights\n",
    "    W1 += alpha1 * (1/beta) * (np.outer(x, h_clamped) - np.outer(x, h_free))\n",
    "    W2 += alpha2 * (1/beta) * (np.outer(h_clamped, y_clamped) - np.outer(h_free, y_free))\n",
    "    \n",
    "    w1_plot.append(np.sum(W1))\n",
    "    w2_plot.append(np.sum(W2))\n",
    "    \n",
    "    #Print Mean Squared Error\n",
    "    if ex % 100 == 0:\n",
    "        print(np.dot(t - y_free, t - y_free))\n",
    "        \n",
    "        energy = epsilon * 0.5 * (np.sum(x**2) + np.sum(h**2) + np.sum(y**2))\n",
    "        \n",
    "        w1_mat = W1 * np.outer(hsig(x),hsig(h))\n",
    "        np.fill_diagonal(w1_mat,0)\n",
    "        energy -= 0.5 * np.sum(w1_mat)\n",
    "        \n",
    "        w2_mat = W2 * np.outer(hsig(h),hsig(y))\n",
    "        np.fill_diagonal(w2_mat,0)\n",
    "        energy -= 0.5 * np.sum(w2_mat)\n",
    "\n",
    "        energy -= 0.5 * np.sum(bh * hsig(h))\n",
    "        energy -= 0.5 * np.sum(by * hsig(y))\n",
    "        energy += np.sum((t - y_free)**2)\n",
    "        energy_plot.append(energy)\n",
    "        \n",
    "    #Learning rate schedule\n",
    "    if ex % 2500 == 2499:\n",
    "        alpha1 /= 10\n",
    "        alpha2 /= 10"
   ]
  },
  {
   "cell_type": "code",
   "execution_count": 20,
   "metadata": {},
   "outputs": [
    {
     "name": "stdout",
     "output_type": "stream",
     "text": [
      "tested sample 300 of 300\n",
      "\n",
      "0.9266666666666666\n"
     ]
    }
   ],
   "source": [
    "#Test Accuracy\n",
    "score = 0\n",
    "samples = 300\n",
    "for test in range(samples):\n",
    "    energy_plot = []\n",
    "    h_plot = []\n",
    "    y_plot = []\n",
    "    rnd = np.random.randint(1497, 1797)\n",
    "    rnd = test + 1497\n",
    "    x = inputs[rnd]\n",
    "    t = create_target(targets[rnd])\n",
    "    h = np.random.uniform(-1, 1, n_h)\n",
    "    y = np.random.uniform(-1, 1, n_y)\n",
    "    \n",
    "    #energy = 0.5 * (np.sum(x**2) + np.sum(h**2) + np.sum(y**2))\n",
    "    \n",
    "    #Free Phase\n",
    "    for itr in range(100):\n",
    "        dh = d_hsig(h) * (np.dot(x, W1) + np.dot(y, W2.T) + bh) - h\n",
    "        dy = d_hsig(y) * (np.dot(h, W2) + by) - y\n",
    "        \n",
    "        h = hsig(h + epsilon * dh)\n",
    "        y = hsig(y + epsilon * dy)\n",
    "        \n",
    "        energy = 0.5 * (np.sum(x**2) + np.sum(h**2) + np.sum(y**2))\n",
    "        \n",
    "        w1_mat = W1 * np.outer(hsig(x),hsig(h))\n",
    "        np.fill_diagonal(w1_mat,0)\n",
    "        energy -= 0.5 * np.sum(w1_mat)\n",
    "        \n",
    "        w2_mat = W2 * np.outer(hsig(h),hsig(y))\n",
    "        np.fill_diagonal(w2_mat,0)\n",
    "        energy -= 0.5 * np.sum(w2_mat)\n",
    "\n",
    "        energy -= 0.5 * np.sum(bh * hsig(h))\n",
    "        energy -= 0.5 * np.sum(by * hsig(y))\n",
    "        energy += np.sum((t - y_free)**2)\n",
    "        energy_plot.append(energy)\n",
    "        h_plot.append(np.mean(h))\n",
    "        y_plot.append(np.mean(y))\n",
    "        \n",
    "    h_free = np.copy(h)\n",
    "    y_free = np.copy(y)\n",
    "    \n",
    "    if np.argmax(y_free) == targets[rnd]:\n",
    "        score += 1\n",
    "    \n",
    "    print('tested sample ' + str(test+1) + ' of '+str(samples), end = \"\\r\")\n",
    "\n",
    "print('\\n')\n",
    "print(score/samples)"
   ]
  },
  {
   "cell_type": "code",
   "execution_count": 21,
   "metadata": {},
   "outputs": [
    {
     "data": {
      "image/png": "[encoded data removed]",
      "text/plain": [
       "<Figure size 432x288 with 1 Axes>"
      ]
     },
     "metadata": {
      "needs_background": "light"
     },
     "output_type": "display_data"
    },
    {
     "data": {
      "image/png": "[encoded data removed]",
      "text/plain": [
       "<Figure size 432x288 with 1 Axes>"
      ]
     },
     "metadata": {
      "needs_background": "light"
     },
     "output_type": "display_data"
    },
    {
     "data": {
      "image/png": "[encoded data removed]",
      "text/plain": [
       "<Figure size 432x288 with 1 Axes>"
      ]
     },
     "metadata": {
      "needs_background": "light"
     },
     "output_type": "display_data"
    }
   ],
   "source": [
    "plt.plot(energy_plot)\n",
    "plt.show()\n",
    "plt.plot(h_plot)\n",
    "plt.show()\n",
    "plt.plot(y_plot)\n",
    "plt.show()"
   ]
  },
  {
   "cell_type": "code",
   "execution_count": null,
   "metadata": {},
   "outputs": [],
   "source": []
  }
 ],
 "metadata": {
  "kernelspec": {
   "display_name": "Python 3 (ipykernel)",
   "language": "python",
   "name": "python3"
  },
  "language_info": {
   "codemirror_mode": {
    "name": "ipython",
    "version": 3
   },
   "file_extension": ".py",
   "mimetype": "text/x-python",
   "name": "python",
   "nbconvert_exporter": "python",
   "pygments_lexer": "ipython3",
   "version": "3.9.5"
  }
 },
 "nbformat": 4,
 "nbformat_minor": 2
}
